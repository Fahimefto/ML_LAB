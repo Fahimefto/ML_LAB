{
  "cells": [
    {
      "cell_type": "code",
      "execution_count": 24,
      "metadata": {
        "id": "MJM-RPiNqAwY"
      },
      "outputs": [],
      "source": [
        "import tensorflow as tf\n",
        "from tensorflow import keras\n",
        "from keras import layers"
      ]
    },
    {
      "cell_type": "code",
      "execution_count": 25,
      "metadata": {
        "colab": {
          "base_uri": "https://localhost:8080/"
        },
        "id": "IcFRuSliqJU9",
        "outputId": "0860abba-cca4-4b70-83f6-d2d9ddb53e65"
      },
      "outputs": [
        {
          "name": "stdout",
          "output_type": "stream",
          "text": [
            "Drive already mounted at /content/drive; to attempt to forcibly remount, call drive.mount(\"/content/drive\", force_remount=True).\n"
          ]
        }
      ],
      "source": [
        "from google.colab import drive\n",
        "drive.mount('/content/drive')"
      ]
    },
    {
      "cell_type": "code",
      "execution_count": 26,
      "metadata": {
        "id": "zf7ovaM9rPnG"
      },
      "outputs": [],
      "source": [
        "#path for the dataset\n",
        "\n",
        "train_path = '/content/drive/MyDrive/Archive/train/'\n",
        "val_path = '/content/drive/MyDrive/Archive/val/'\n",
        "test_path = '/content/drive/MyDrive/Archive/test/'"
      ]
    },
    {
      "cell_type": "code",
      "execution_count": 29,
      "metadata": {
        "colab": {
          "base_uri": "https://localhost:8080/"
        },
        "id": "CU3T-vE-sXyZ",
        "outputId": "56bb6167-525f-4866-dbe6-ec955efcd828"
      },
      "outputs": [
        {
          "name": "stdout",
          "output_type": "stream",
          "text": [
            "Found 5218 files belonging to 2 classes.\n",
            "Using 4175 files for training.\n"
          ]
        }
      ],
      "source": [
        "train_data = keras.preprocessing.image_dataset_from_directory(\n",
        "    train_path,\n",
        "    validation_split=0.2,\n",
        "    subset=\"training\",\n",
        "    seed=1337,\n",
        "    image_size=(224, 224),\n",
        "    batch_size=32,\n",
        ")"
      ]
    },
    {
      "cell_type": "code",
      "execution_count": 30,
      "metadata": {
        "colab": {
          "base_uri": "https://localhost:8080/"
        },
        "id": "wBf-EzM5sbPz",
        "outputId": "c417735b-1252-46bf-ff77-a228b216425d"
      },
      "outputs": [
        {
          "name": "stdout",
          "output_type": "stream",
          "text": [
            "Found 16 files belonging to 2 classes.\n",
            "Using 3 files for validation.\n"
          ]
        }
      ],
      "source": [
        "val_data = keras.preprocessing.image_dataset_from_directory(\n",
        "    val_path,\n",
        "    validation_split=0.2,\n",
        "    subset=\"validation\",\n",
        "    seed=1337,\n",
        "    image_size=(224, 224),\n",
        "    batch_size=32,\n",
        ")"
      ]
    },
    {
      "cell_type": "code",
      "execution_count": 31,
      "metadata": {
        "colab": {
          "base_uri": "https://localhost:8080/"
        },
        "id": "i2i-IoLOsfDK",
        "outputId": "8e6dde34-bc02-4524-bf4a-f13b59b09e5a"
      },
      "outputs": [
        {
          "name": "stdout",
          "output_type": "stream",
          "text": [
            "Found 624 files belonging to 2 classes.\n"
          ]
        }
      ],
      "source": [
        "test_data = keras.preprocessing.image_dataset_from_directory(\n",
        "    test_path,\n",
        "    seed=1337,\n",
        "    image_size=(224, 224),\n",
        "    batch_size=32,\n",
        ")"
      ]
    },
    {
      "cell_type": "code",
      "execution_count": 32,
      "metadata": {
        "id": "WrXJRXa0s7iU"
      },
      "outputs": [],
      "source": [
        "model = keras.Sequential(\n",
        "    [\n",
        "        layers.experimental.preprocessing.Rescaling(1.0 / 255),\n",
        "        layers.Conv2D(32, (3, 3), activation=\"relu\"),\n",
        "        layers.MaxPooling2D(pool_size=(2, 2)),\n",
        "        layers.Conv2D(64, (3, 3), activation=\"relu\"),\n",
        "        layers.MaxPooling2D(pool_size=(2, 2)),\n",
        "        layers.Conv2D(128, (3, 3), activation=\"relu\"),\n",
        "        layers.MaxPooling2D(pool_size=(2, 2)),\n",
        "        layers.Flatten(),\n",
        "        layers.Dense(128, activation=\"relu\"),\n",
        "        layers.Dense(1, activation=\"sigmoid\"),\n",
        "    ]\n",
        ")"
      ]
    },
    {
      "cell_type": "code",
      "execution_count": 33,
      "metadata": {
        "colab": {
          "base_uri": "https://localhost:8080/"
        },
        "id": "zfPBRXFEtBfs",
        "outputId": "61190665-dda3-41bc-bbbf-2763c4f6aa79"
      },
      "outputs": [
        {
          "name": "stdout",
          "output_type": "stream",
          "text": [
            "Epoch 1/10\n",
            "131/131 [==============================] - 647s 4s/step - loss: 0.3575 - accuracy: 0.8651 - val_loss: 0.0362 - val_accuracy: 1.0000\n",
            "Epoch 2/10\n",
            "131/131 [==============================] - 526s 4s/step - loss: 0.1159 - accuracy: 0.9586 - val_loss: 0.0341 - val_accuracy: 1.0000\n",
            "Epoch 3/10\n",
            "131/131 [==============================] - 518s 4s/step - loss: 0.0881 - accuracy: 0.9669 - val_loss: 0.0139 - val_accuracy: 1.0000\n",
            "Epoch 4/10\n",
            "131/131 [==============================] - 520s 4s/step - loss: 0.0722 - accuracy: 0.9727 - val_loss: 0.0050 - val_accuracy: 1.0000\n",
            "Epoch 5/10\n",
            "131/131 [==============================] - 514s 4s/step - loss: 0.0592 - accuracy: 0.9775 - val_loss: 0.0016 - val_accuracy: 1.0000\n",
            "Epoch 6/10\n",
            "131/131 [==============================] - 518s 4s/step - loss: 0.0367 - accuracy: 0.9873 - val_loss: 0.0041 - val_accuracy: 1.0000\n",
            "Epoch 7/10\n",
            "131/131 [==============================] - 505s 4s/step - loss: 0.0524 - accuracy: 0.9789 - val_loss: 0.0020 - val_accuracy: 1.0000\n",
            "Epoch 8/10\n",
            "131/131 [==============================] - 515s 4s/step - loss: 0.0305 - accuracy: 0.9873 - val_loss: 8.9183e-04 - val_accuracy: 1.0000\n",
            "Epoch 9/10\n",
            "131/131 [==============================] - 520s 4s/step - loss: 0.0278 - accuracy: 0.9892 - val_loss: 3.8050e-04 - val_accuracy: 1.0000\n",
            "Epoch 10/10\n",
            "131/131 [==============================] - 521s 4s/step - loss: 0.0157 - accuracy: 0.9947 - val_loss: 1.2523e-04 - val_accuracy: 1.0000\n"
          ]
        },
        {
          "data": {
            "text/plain": [
              "<keras.src.callbacks.History at 0x7a949d6cd420>"
            ]
          },
          "execution_count": 33,
          "metadata": {},
          "output_type": "execute_result"
        }
      ],
      "source": [
        "model.compile(optimizer=\"adam\", loss=\"binary_crossentropy\", metrics=[\"accuracy\"])\n",
        "model.fit(train_data, validation_data=val_data, epochs=10)"
      ]
    },
    {
      "cell_type": "code",
      "execution_count": 34,
      "metadata": {
        "colab": {
          "base_uri": "https://localhost:8080/"
        },
        "id": "MwShf9SJtDbc",
        "outputId": "caaae27a-28e4-4697-c6e4-99b74418ff06"
      },
      "outputs": [
        {
          "name": "stdout",
          "output_type": "stream",
          "text": [
            "20/20 [==============================] - 28s 1s/step - loss: 2.1423 - accuracy: 0.7564\n",
            "Test Accuracy: 75.64%\n"
          ]
        }
      ],
      "source": [
        "evaluation= model.evaluate(test_data)\n",
        "print(f\"Test Accuracy: {evaluation[1]*100:.2f}%\")"
      ]
    },
    {
      "cell_type": "code",
      "execution_count": null,
      "metadata": {
        "id": "Fvs6XrNutFwj"
      },
      "outputs": [],
      "source": []
    }
  ],
  "metadata": {
    "colab": {
      "provenance": []
    },
    "kernelspec": {
      "display_name": "Python 3",
      "name": "python3"
    },
    "language_info": {
      "name": "python",
      "version": "3.8.10"
    }
  },
  "nbformat": 4,
  "nbformat_minor": 0
}
